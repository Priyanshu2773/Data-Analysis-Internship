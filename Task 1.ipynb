{
 "cells": [
  {
   "cell_type": "code",
   "execution_count": 1,
   "id": "308d83e3-dbd1-4404-9750-c1f218a3588d",
   "metadata": {},
   "outputs": [],
   "source": [
    "#Creating a List\n",
    "my_list = [1,2,3,4,5]"
   ]
  },
  {
   "cell_type": "code",
   "execution_count": 2,
   "id": "43357617-980e-4935-89b2-ea9c29a118df",
   "metadata": {},
   "outputs": [],
   "source": [
    "#Adding an element to the List\n",
    "my_list.append(6)"
   ]
  },
  {
   "cell_type": "code",
   "execution_count": 3,
   "id": "d1d8413f-9d10-4ff3-babd-b003a1dde16f",
   "metadata": {},
   "outputs": [],
   "source": [
    "#Removing an element from the List\n",
    "my_list.remove(3)"
   ]
  },
  {
   "cell_type": "code",
   "execution_count": 4,
   "id": "476650ea-b433-4c9c-b177-ac00b4ed9747",
   "metadata": {},
   "outputs": [],
   "source": [
    "#Modifying an element in the List\n",
    "my_list[0] = 10"
   ]
  },
  {
   "cell_type": "code",
   "execution_count": 5,
   "id": "76422830-4b5b-4347-a17e-c5313953bfe3",
   "metadata": {},
   "outputs": [
    {
     "name": "stdout",
     "output_type": "stream",
     "text": [
      "UPDATED LIST [10, 2, 4, 5, 6]\n"
     ]
    }
   ],
   "source": [
    "print(\"UPDATED LIST\", my_list)"
   ]
  },
  {
   "cell_type": "code",
   "execution_count": 6,
   "id": "cd2b8b64-a415-4579-aa47-dd4d03276d2e",
   "metadata": {},
   "outputs": [],
   "source": [
    "#Creating a dictionary\n",
    "my_dict = {'name':'Priyanshu', 'age':20, 'city':'Mohali'}"
   ]
  },
  {
   "cell_type": "code",
   "execution_count": 7,
   "id": "782d9b52-898e-41ac-bed5-4ad57e80a928",
   "metadata": {},
   "outputs": [],
   "source": [
    "#Adding\n",
    "my_dict['gender'] = 'Male'"
   ]
  },
  {
   "cell_type": "code",
   "execution_count": 9,
   "id": "74b5143c-b92c-4cad-ae20-23c12cc095fa",
   "metadata": {},
   "outputs": [],
   "source": [
    "#Removing\n",
    "del my_dict['age']"
   ]
  },
  {
   "cell_type": "code",
   "execution_count": 10,
   "id": "600b175a-1c07-4f99-b1a3-b62c2980e5ca",
   "metadata": {},
   "outputs": [],
   "source": [
    "#Modifying\n",
    "my_dict['city'] = 'Mumbai'"
   ]
  },
  {
   "cell_type": "code",
   "execution_count": 11,
   "id": "6a2e77fc-94b5-4d35-838c-5a447b02b738",
   "metadata": {},
   "outputs": [
    {
     "name": "stdout",
     "output_type": "stream",
     "text": [
      "Updated Dictionary: {'name': 'Priyanshu', 'city': 'Mumbai', 'gender': 'Male'}\n"
     ]
    }
   ],
   "source": [
    "print(\"Updated Dictionary:\" , my_dict)"
   ]
  },
  {
   "cell_type": "code",
   "execution_count": 22,
   "id": "a1649f28-917b-49c8-a8b0-043c69ec7ebf",
   "metadata": {},
   "outputs": [],
   "source": [
    "#Creating a set\n",
    "my_set = {1,2,3,4,5}"
   ]
  },
  {
   "cell_type": "code",
   "execution_count": 23,
   "id": "49a7abaf-7a65-4fb8-8813-f4d598dc0c4e",
   "metadata": {},
   "outputs": [
    {
     "name": "stdout",
     "output_type": "stream",
     "text": [
      "Updated Set: {1, 2, 3, 4, 5, 6}\n"
     ]
    }
   ],
   "source": [
    "#Adding an element to the set\n",
    "my_set.add(6)\n",
    "print(\"Updated Set:\", my_set)"
   ]
  },
  {
   "cell_type": "code",
   "execution_count": 24,
   "id": "7ea94ebe-28d6-44ae-bb4b-fad17ebc812d",
   "metadata": {},
   "outputs": [
    {
     "name": "stdout",
     "output_type": "stream",
     "text": [
      "Updated Set: {1, 2, 4, 5, 6}\n"
     ]
    }
   ],
   "source": [
    "#Removing an element to the set\n",
    "my_set.remove(3)\n",
    "print(\"Updated Set:\", my_set)"
   ]
  },
  {
   "cell_type": "code",
   "execution_count": 25,
   "id": "634534ce-d31a-4ac1-85af-c25d51118f55",
   "metadata": {},
   "outputs": [
    {
     "name": "stdout",
     "output_type": "stream",
     "text": [
      "Updated Set: {2, 4, 5, 6, 10}\n"
     ]
    }
   ],
   "source": [
    "#Modifying an element to the set\n",
    "my_set.discard(1)\n",
    "my_set.add(10)\n",
    "print(\"Updated Set:\", my_set)"
   ]
  },
  {
   "cell_type": "code",
   "execution_count": null,
   "id": "ebfb31e2-6d32-4403-bae9-a93b98db783d",
   "metadata": {},
   "outputs": [],
   "source": []
  }
 ],
 "metadata": {
  "kernelspec": {
   "display_name": "Python 3 (ipykernel)",
   "language": "python",
   "name": "python3"
  },
  "language_info": {
   "codemirror_mode": {
    "name": "ipython",
    "version": 3
   },
   "file_extension": ".py",
   "mimetype": "text/x-python",
   "name": "python",
   "nbconvert_exporter": "python",
   "pygments_lexer": "ipython3",
   "version": "3.11.7"
  }
 },
 "nbformat": 4,
 "nbformat_minor": 5
}
